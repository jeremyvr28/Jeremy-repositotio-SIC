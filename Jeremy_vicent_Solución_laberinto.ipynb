{
  "nbformat": 4,
  "nbformat_minor": 0,
  "metadata": {
    "colab": {
      "provenance": []
    },
    "kernelspec": {
      "name": "python3",
      "display_name": "Python 3"
    },
    "language_info": {
      "name": "python"
    }
  },
  "cells": [
    {
      "cell_type": "code",
      "execution_count": 4,
      "metadata": {
        "colab": {
          "base_uri": "https://localhost:8080/"
        },
        "id": "ZMEqxkhiTPdC",
        "outputId": "05606ad9-b3c8-4167-b1d1-632329539323"
      },
      "outputs": [
        {
          "output_type": "stream",
          "name": "stdout",
          "text": [
            "[(0, 0), (0, 1), (1, 1), (2, 1), (3, 1), (3, 2), (3, 3)]\n"
          ]
        }
      ],
      "source": [
        "def is_safe(maze, x, y, visited):\n",
        "    # Verifica si (x, y) está dentro de los límites y es un camino válido\n",
        "    return 0 <= x < len(maze) and 0 <= y < len(maze[0]) and maze[x][y] == 0 and not visited[x][y]\n",
        "\n",
        "def dfs(maze, x, y, path, visited):\n",
        "    # Tamaño del laberinto\n",
        "    N = len(maze)\n",
        "\n",
        "    # Si llegamos a la meta, retornamos el camino\n",
        "    if x == N - 1 and y == N - 1:\n",
        "        return path\n",
        "\n",
        "    # Movimientos posibles (derecha, abajo, izquierda, arriba)\n",
        "    moves = [(0, 1), (1, 0), (0, -1), (-1, 0)]\n",
        "    visited[x][y] = True  # Marca la posición actual como visitada\n",
        "\n",
        "    for dx, dy in moves:\n",
        "        new_x, new_y = x + dx, y + dy\n",
        "        if is_safe(maze, new_x, new_y, visited):\n",
        "            result = dfs(maze, new_x, new_y, path + [(new_x, new_y)], visited)\n",
        "            if result:  # Si encontramos una solución, la devolvemos\n",
        "                return result\n",
        "\n",
        "    visited[x][y] = False  # Desmarca la posición actual si no hay solución desde aquí\n",
        "    return None\n",
        "\n",
        "def solve(maze):\n",
        "    # Inicializa la matriz de visitados\n",
        "    visited = [[False for _ in range(len(maze))] for _ in range(len(maze))]\n",
        "    # Inicia la búsqueda desde (0, 0)\n",
        "    path = dfs(maze, 0, 0, [(0, 0)], visited)\n",
        "    return path\n",
        "\n",
        "# Ejemplo de uso\n",
        "maze = [\n",
        "    [0, 0, 0, 0],\n",
        "    [1, 0, 1, 0],\n",
        "    [1, 0, 1, 1],\n",
        "    [0, 0, 0, 0],\n",
        "]\n",
        "\n",
        "solution_path = solve(maze)\n",
        "print(solution_path)\n"
      ]
    }
  ]
}