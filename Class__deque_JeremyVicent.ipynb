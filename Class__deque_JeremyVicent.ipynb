{
  "nbformat": 4,
  "nbformat_minor": 0,
  "metadata": {
    "colab": {
      "provenance": []
    },
    "kernelspec": {
      "name": "python3",
      "display_name": "Python 3"
    },
    "language_info": {
      "name": "python"
    }
  },
  "cells": [
    {
      "cell_type": "code",
      "execution_count": 41,
      "metadata": {
        "colab": {
          "base_uri": "https://localhost:8080/"
        },
        "id": "A5G4DZruWbEr",
        "outputId": "4db52510-5cc9-43dd-cb5c-ff785f2098ce"
      },
      "outputs": [
        {
          "output_type": "stream",
          "name": "stdout",
          "text": [
            "ingrese un elemento:a\n",
            "ingrese un elemento:2D\n",
            "ingrese un elemento:3D\n",
            "ingrese un elemento:b\n",
            "deque : ['a', '2D', 'elemen', 12, 3, 4, '3D', 'b']\n",
            "primer elemento eliminado: a\n",
            "ultimo elemento eliminado: b\n",
            "deque actual (primer y ultimo elemento eliminado): ['2D', 'elemen', 12, 3, 4, '3D']\n"
          ]
        }
      ],
      "source": [
        "#Ejercicio\n",
        "#codigo actividad\n",
        "\n",
        "class Deque:\n",
        "  def __init__(self):\n",
        "    self.__deque = ['elemen',12,3,4]\n",
        "\n",
        "  def agg__primero(self, item):\n",
        "    self.__deque.insert(0, item)\n",
        "    return self.__deque\n",
        "\n",
        "  def rem__primero(self):\n",
        "    if len(self.__deque) == 0:\n",
        "      return None\n",
        "    else:\n",
        "      return self.__deque.pop(0)\n",
        "      return self.__deque\n",
        "\n",
        "  def agg__ultimo(self, item):\n",
        "    self.__deque.append(item)\n",
        "    return self.__deque\n",
        "\n",
        "  def rem__ultimo(self):\n",
        "    if len(self.__deque) == 0:\n",
        "      return None\n",
        "    else:\n",
        "      return self.__deque.pop()\n",
        "      return self.__deque\n",
        "\n",
        "  def esta_vacio(self):\n",
        "    return self.__deque == []\n",
        "\n",
        "  def tamano(self):\n",
        "    return len(self.__deque)\n",
        "\n",
        "  def __str__(self):\n",
        "    return str(self.__deque)\n",
        "\n",
        "deque = Deque()\n",
        "\n",
        "ro = input(\"ingrese un elemento:\")\n",
        "do = input(\"ingrese un elemento:\")\n",
        "fo = input(\"ingrese un elemento:\")\n",
        "lo = input(\"ingrese un elemento:\")\n",
        "\n",
        "deque.agg__primero(do)\n",
        "deque.agg__primero(ro)\n",
        "deque.agg__ultimo(fo)\n",
        "deque.agg__ultimo(lo)\n",
        "\n",
        "print(f\"deque : {deque}\")\n",
        "\n",
        "primer_elemento = deque.rem__primero()\n",
        "ultimo_elemento = deque.rem__ultimo()\n",
        "\n",
        "print(f\"primer elemento eliminado: {primer_elemento}\")\n",
        "print(f\"ultimo elemento eliminado: {ultimo_elemento}\")\n",
        "\n",
        "print(f\"deque actual (primer y ultimo elemento eliminado): {deque}\")"
      ]
    }
  ]
}