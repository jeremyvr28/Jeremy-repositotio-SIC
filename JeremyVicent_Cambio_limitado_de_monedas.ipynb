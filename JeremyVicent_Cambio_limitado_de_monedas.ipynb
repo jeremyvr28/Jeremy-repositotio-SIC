{
  "nbformat": 4,
  "nbformat_minor": 0,
  "metadata": {
    "colab": {
      "provenance": []
    },
    "kernelspec": {
      "name": "python3",
      "display_name": "Python 3"
    },
    "language_info": {
      "name": "python"
    }
  },
  "cells": [
    {
      "cell_type": "code",
      "execution_count": 1,
      "metadata": {
        "colab": {
          "base_uri": "https://localhost:8080/"
        },
        "id": "ZMEqxkhiTPdC",
        "outputId": "42a54ccd-39d9-4891-f7f5-ea941645f2ad"
      },
      "outputs": [
        {
          "output_type": "stream",
          "name": "stdout",
          "text": [
            "[(500, 1), (100, 1), (50, 2), (10, 1)] 4\n"
          ]
        }
      ],
      "source": [
        "def cambio_moneda2(monedas, cant):\n",
        "    cambios = []\n",
        "    for valor, cantidad_disponible in monedas:\n",
        "        # Calculamos cuántas monedas de este valor podemos utilizar\n",
        "        cantidad_a_usar = min(cant // valor, cantidad_disponible)\n",
        "        if cantidad_a_usar > 0:\n",
        "            cambios.append((valor, cantidad_a_usar))\n",
        "            # Restamos el valor total de estas monedas del monto restante\n",
        "            cant -= valor * cantidad_a_usar\n",
        "        # Si hemos alcanzado el monto deseado, terminamos el bucle\n",
        "        if cant == 0:\n",
        "            break\n",
        "    # Verificamos si se logró alcanzar el monto exacto\n",
        "    if cant > 0:\n",
        "        return \"No es posible alcanzar el monto exacto con las monedas disponibles.\"\n",
        "    return cambios\n",
        "\n",
        "# Ejemplo de uso\n",
        "\n",
        "# Lista de monedas con sus cantidades: (valor, cantidad_disponible)\n",
        "monedas = [\n",
        "    (500, 1),   # 1 moneda de 500w\n",
        "    (100, 1),   # 1 moneda de 100w\n",
        "    (50, 3),    # 3 monedas de 50w\n",
        "    (10, 2)     # 2 monedas de 10w\n",
        "]\n",
        "\n",
        "cant = 710  # Monto objetivo\n",
        "cambios = cambio_moneda2(monedas, cant)\n",
        "print(cambios, len(cambios))\n"
      ]
    }
  ]
}