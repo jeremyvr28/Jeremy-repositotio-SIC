{
  "nbformat": 4,
  "nbformat_minor": 0,
  "metadata": {
    "colab": {
      "provenance": []
    },
    "kernelspec": {
      "name": "python3",
      "display_name": "Python 3"
    },
    "language_info": {
      "name": "python"
    }
  },
  "cells": [
    {
      "cell_type": "code",
      "execution_count": 3,
      "metadata": {
        "colab": {
          "base_uri": "https://localhost:8080/"
        },
        "id": "ZMEqxkhiTPdC",
        "outputId": "cbb9ff20-7712-4c05-99f0-7f88255c4eea"
      },
      "outputs": [
        {
          "output_type": "stream",
          "name": "stdout",
          "text": [
            "6\n"
          ]
        }
      ],
      "source": [
        "def maximum_subarray(arr):\n",
        "    max_sum = float('-inf')\n",
        "    current_sum = 0\n",
        "\n",
        "    for num in arr:\n",
        "        current_sum = max(num, current_sum + num)\n",
        "        max_sum = max(max_sum, current_sum)\n",
        "\n",
        "    return max_sum\n",
        "\n",
        "# Ejemplo de uso\n",
        "S = [-2, 1, -2, 4, -1, 2, 1, -5, 4]\n",
        "M = maximum_subarray(S)\n",
        "print(M)"
      ]
    }
  ]
}